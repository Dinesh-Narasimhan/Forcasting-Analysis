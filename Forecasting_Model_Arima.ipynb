{
  "cells": [
    {
      "cell_type": "code",
      "execution_count": 1,
      "metadata": {
        "id": "k693h285fXzn"
      },
      "outputs": [],
      "source": [
        "# Import libraries\n",
        "from pandas import read_csv\n",
        "from matplotlib import pyplot\n",
        "from numpy import sqrt\n",
        "import warnings\n",
        "import itertools\n",
        "import pandas as pd\n",
        "import numpy as np\n",
        "import matplotlib.pyplot as plt\n",
        "import statsmodels.api as sm"
      ]
    },
    {
      "cell_type": "code",
      "execution_count": 2,
      "metadata": {
        "id": "iJhl71k7fXzr"
      },
      "outputs": [],
      "source": [
        "series = read_csv('water.csv', header=0, index_col=0, parse_dates=True)"
      ]
    },
    {
      "cell_type": "code",
      "execution_count": 3,
      "metadata": {
        "colab": {
          "base_uri": "https://localhost:8080/",
          "height": 455
        },
        "id": "-Ec5ynxPfXzs",
        "outputId": "ce303d5d-6969-4577-e2ef-40f0410a660d"
      },
      "outputs": [
        {
          "output_type": "execute_result",
          "data": {
            "text/plain": [
              "            Water\n",
              "Year             \n",
              "1885-01-01    356\n",
              "1886-01-01    386\n",
              "1887-01-01    397\n",
              "1888-01-01    397\n",
              "1889-01-01    413\n",
              "...           ...\n",
              "1959-01-01    594\n",
              "1960-01-01    587\n",
              "1961-01-01    587\n",
              "1962-01-01    625\n",
              "1963-01-01    613\n",
              "\n",
              "[79 rows x 1 columns]"
            ],
            "text/html": [
              "\n",
              "  <div id=\"df-2a176438-99d9-47de-b561-5171436b0e04\" class=\"colab-df-container\">\n",
              "    <div>\n",
              "<style scoped>\n",
              "    .dataframe tbody tr th:only-of-type {\n",
              "        vertical-align: middle;\n",
              "    }\n",
              "\n",
              "    .dataframe tbody tr th {\n",
              "        vertical-align: top;\n",
              "    }\n",
              "\n",
              "    .dataframe thead th {\n",
              "        text-align: right;\n",
              "    }\n",
              "</style>\n",
              "<table border=\"1\" class=\"dataframe\">\n",
              "  <thead>\n",
              "    <tr style=\"text-align: right;\">\n",
              "      <th></th>\n",
              "      <th>Water</th>\n",
              "    </tr>\n",
              "    <tr>\n",
              "      <th>Year</th>\n",
              "      <th></th>\n",
              "    </tr>\n",
              "  </thead>\n",
              "  <tbody>\n",
              "    <tr>\n",
              "      <th>1885-01-01</th>\n",
              "      <td>356</td>\n",
              "    </tr>\n",
              "    <tr>\n",
              "      <th>1886-01-01</th>\n",
              "      <td>386</td>\n",
              "    </tr>\n",
              "    <tr>\n",
              "      <th>1887-01-01</th>\n",
              "      <td>397</td>\n",
              "    </tr>\n",
              "    <tr>\n",
              "      <th>1888-01-01</th>\n",
              "      <td>397</td>\n",
              "    </tr>\n",
              "    <tr>\n",
              "      <th>1889-01-01</th>\n",
              "      <td>413</td>\n",
              "    </tr>\n",
              "    <tr>\n",
              "      <th>...</th>\n",
              "      <td>...</td>\n",
              "    </tr>\n",
              "    <tr>\n",
              "      <th>1959-01-01</th>\n",
              "      <td>594</td>\n",
              "    </tr>\n",
              "    <tr>\n",
              "      <th>1960-01-01</th>\n",
              "      <td>587</td>\n",
              "    </tr>\n",
              "    <tr>\n",
              "      <th>1961-01-01</th>\n",
              "      <td>587</td>\n",
              "    </tr>\n",
              "    <tr>\n",
              "      <th>1962-01-01</th>\n",
              "      <td>625</td>\n",
              "    </tr>\n",
              "    <tr>\n",
              "      <th>1963-01-01</th>\n",
              "      <td>613</td>\n",
              "    </tr>\n",
              "  </tbody>\n",
              "</table>\n",
              "<p>79 rows × 1 columns</p>\n",
              "</div>\n",
              "    <div class=\"colab-df-buttons\">\n",
              "\n",
              "  <div class=\"colab-df-container\">\n",
              "    <button class=\"colab-df-convert\" onclick=\"convertToInteractive('df-2a176438-99d9-47de-b561-5171436b0e04')\"\n",
              "            title=\"Convert this dataframe to an interactive table.\"\n",
              "            style=\"display:none;\">\n",
              "\n",
              "  <svg xmlns=\"http://www.w3.org/2000/svg\" height=\"24px\" viewBox=\"0 -960 960 960\">\n",
              "    <path d=\"M120-120v-720h720v720H120Zm60-500h600v-160H180v160Zm220 220h160v-160H400v160Zm0 220h160v-160H400v160ZM180-400h160v-160H180v160Zm440 0h160v-160H620v160ZM180-180h160v-160H180v160Zm440 0h160v-160H620v160Z\"/>\n",
              "  </svg>\n",
              "    </button>\n",
              "\n",
              "  <style>\n",
              "    .colab-df-container {\n",
              "      display:flex;\n",
              "      gap: 12px;\n",
              "    }\n",
              "\n",
              "    .colab-df-convert {\n",
              "      background-color: #E8F0FE;\n",
              "      border: none;\n",
              "      border-radius: 50%;\n",
              "      cursor: pointer;\n",
              "      display: none;\n",
              "      fill: #1967D2;\n",
              "      height: 32px;\n",
              "      padding: 0 0 0 0;\n",
              "      width: 32px;\n",
              "    }\n",
              "\n",
              "    .colab-df-convert:hover {\n",
              "      background-color: #E2EBFA;\n",
              "      box-shadow: 0px 1px 2px rgba(60, 64, 67, 0.3), 0px 1px 3px 1px rgba(60, 64, 67, 0.15);\n",
              "      fill: #174EA6;\n",
              "    }\n",
              "\n",
              "    .colab-df-buttons div {\n",
              "      margin-bottom: 4px;\n",
              "    }\n",
              "\n",
              "    [theme=dark] .colab-df-convert {\n",
              "      background-color: #3B4455;\n",
              "      fill: #D2E3FC;\n",
              "    }\n",
              "\n",
              "    [theme=dark] .colab-df-convert:hover {\n",
              "      background-color: #434B5C;\n",
              "      box-shadow: 0px 1px 3px 1px rgba(0, 0, 0, 0.15);\n",
              "      filter: drop-shadow(0px 1px 2px rgba(0, 0, 0, 0.3));\n",
              "      fill: #FFFFFF;\n",
              "    }\n",
              "  </style>\n",
              "\n",
              "    <script>\n",
              "      const buttonEl =\n",
              "        document.querySelector('#df-2a176438-99d9-47de-b561-5171436b0e04 button.colab-df-convert');\n",
              "      buttonEl.style.display =\n",
              "        google.colab.kernel.accessAllowed ? 'block' : 'none';\n",
              "\n",
              "      async function convertToInteractive(key) {\n",
              "        const element = document.querySelector('#df-2a176438-99d9-47de-b561-5171436b0e04');\n",
              "        const dataTable =\n",
              "          await google.colab.kernel.invokeFunction('convertToInteractive',\n",
              "                                                    [key], {});\n",
              "        if (!dataTable) return;\n",
              "\n",
              "        const docLinkHtml = 'Like what you see? Visit the ' +\n",
              "          '<a target=\"_blank\" href=https://colab.research.google.com/notebooks/data_table.ipynb>data table notebook</a>'\n",
              "          + ' to learn more about interactive tables.';\n",
              "        element.innerHTML = '';\n",
              "        dataTable['output_type'] = 'display_data';\n",
              "        await google.colab.output.renderOutput(dataTable, element);\n",
              "        const docLink = document.createElement('div');\n",
              "        docLink.innerHTML = docLinkHtml;\n",
              "        element.appendChild(docLink);\n",
              "      }\n",
              "    </script>\n",
              "  </div>\n",
              "\n",
              "\n",
              "    <div id=\"df-0e29aa97-2cdc-4ae3-aabb-ce49b9aa4629\">\n",
              "      <button class=\"colab-df-quickchart\" onclick=\"quickchart('df-0e29aa97-2cdc-4ae3-aabb-ce49b9aa4629')\"\n",
              "                title=\"Suggest charts\"\n",
              "                style=\"display:none;\">\n",
              "\n",
              "<svg xmlns=\"http://www.w3.org/2000/svg\" height=\"24px\"viewBox=\"0 0 24 24\"\n",
              "     width=\"24px\">\n",
              "    <g>\n",
              "        <path d=\"M19 3H5c-1.1 0-2 .9-2 2v14c0 1.1.9 2 2 2h14c1.1 0 2-.9 2-2V5c0-1.1-.9-2-2-2zM9 17H7v-7h2v7zm4 0h-2V7h2v10zm4 0h-2v-4h2v4z\"/>\n",
              "    </g>\n",
              "</svg>\n",
              "      </button>\n",
              "\n",
              "<style>\n",
              "  .colab-df-quickchart {\n",
              "      --bg-color: #E8F0FE;\n",
              "      --fill-color: #1967D2;\n",
              "      --hover-bg-color: #E2EBFA;\n",
              "      --hover-fill-color: #174EA6;\n",
              "      --disabled-fill-color: #AAA;\n",
              "      --disabled-bg-color: #DDD;\n",
              "  }\n",
              "\n",
              "  [theme=dark] .colab-df-quickchart {\n",
              "      --bg-color: #3B4455;\n",
              "      --fill-color: #D2E3FC;\n",
              "      --hover-bg-color: #434B5C;\n",
              "      --hover-fill-color: #FFFFFF;\n",
              "      --disabled-bg-color: #3B4455;\n",
              "      --disabled-fill-color: #666;\n",
              "  }\n",
              "\n",
              "  .colab-df-quickchart {\n",
              "    background-color: var(--bg-color);\n",
              "    border: none;\n",
              "    border-radius: 50%;\n",
              "    cursor: pointer;\n",
              "    display: none;\n",
              "    fill: var(--fill-color);\n",
              "    height: 32px;\n",
              "    padding: 0;\n",
              "    width: 32px;\n",
              "  }\n",
              "\n",
              "  .colab-df-quickchart:hover {\n",
              "    background-color: var(--hover-bg-color);\n",
              "    box-shadow: 0 1px 2px rgba(60, 64, 67, 0.3), 0 1px 3px 1px rgba(60, 64, 67, 0.15);\n",
              "    fill: var(--button-hover-fill-color);\n",
              "  }\n",
              "\n",
              "  .colab-df-quickchart-complete:disabled,\n",
              "  .colab-df-quickchart-complete:disabled:hover {\n",
              "    background-color: var(--disabled-bg-color);\n",
              "    fill: var(--disabled-fill-color);\n",
              "    box-shadow: none;\n",
              "  }\n",
              "\n",
              "  .colab-df-spinner {\n",
              "    border: 2px solid var(--fill-color);\n",
              "    border-color: transparent;\n",
              "    border-bottom-color: var(--fill-color);\n",
              "    animation:\n",
              "      spin 1s steps(1) infinite;\n",
              "  }\n",
              "\n",
              "  @keyframes spin {\n",
              "    0% {\n",
              "      border-color: transparent;\n",
              "      border-bottom-color: var(--fill-color);\n",
              "      border-left-color: var(--fill-color);\n",
              "    }\n",
              "    20% {\n",
              "      border-color: transparent;\n",
              "      border-left-color: var(--fill-color);\n",
              "      border-top-color: var(--fill-color);\n",
              "    }\n",
              "    30% {\n",
              "      border-color: transparent;\n",
              "      border-left-color: var(--fill-color);\n",
              "      border-top-color: var(--fill-color);\n",
              "      border-right-color: var(--fill-color);\n",
              "    }\n",
              "    40% {\n",
              "      border-color: transparent;\n",
              "      border-right-color: var(--fill-color);\n",
              "      border-top-color: var(--fill-color);\n",
              "    }\n",
              "    60% {\n",
              "      border-color: transparent;\n",
              "      border-right-color: var(--fill-color);\n",
              "    }\n",
              "    80% {\n",
              "      border-color: transparent;\n",
              "      border-right-color: var(--fill-color);\n",
              "      border-bottom-color: var(--fill-color);\n",
              "    }\n",
              "    90% {\n",
              "      border-color: transparent;\n",
              "      border-bottom-color: var(--fill-color);\n",
              "    }\n",
              "  }\n",
              "</style>\n",
              "\n",
              "      <script>\n",
              "        async function quickchart(key) {\n",
              "          const quickchartButtonEl =\n",
              "            document.querySelector('#' + key + ' button');\n",
              "          quickchartButtonEl.disabled = true;  // To prevent multiple clicks.\n",
              "          quickchartButtonEl.classList.add('colab-df-spinner');\n",
              "          try {\n",
              "            const charts = await google.colab.kernel.invokeFunction(\n",
              "                'suggestCharts', [key], {});\n",
              "          } catch (error) {\n",
              "            console.error('Error during call to suggestCharts:', error);\n",
              "          }\n",
              "          quickchartButtonEl.classList.remove('colab-df-spinner');\n",
              "          quickchartButtonEl.classList.add('colab-df-quickchart-complete');\n",
              "        }\n",
              "        (() => {\n",
              "          let quickchartButtonEl =\n",
              "            document.querySelector('#df-0e29aa97-2cdc-4ae3-aabb-ce49b9aa4629 button');\n",
              "          quickchartButtonEl.style.display =\n",
              "            google.colab.kernel.accessAllowed ? 'block' : 'none';\n",
              "        })();\n",
              "      </script>\n",
              "    </div>\n",
              "\n",
              "  <div id=\"id_ad49a90c-c5a5-48ef-bd75-ee0fc23d7851\">\n",
              "    <style>\n",
              "      .colab-df-generate {\n",
              "        background-color: #E8F0FE;\n",
              "        border: none;\n",
              "        border-radius: 50%;\n",
              "        cursor: pointer;\n",
              "        display: none;\n",
              "        fill: #1967D2;\n",
              "        height: 32px;\n",
              "        padding: 0 0 0 0;\n",
              "        width: 32px;\n",
              "      }\n",
              "\n",
              "      .colab-df-generate:hover {\n",
              "        background-color: #E2EBFA;\n",
              "        box-shadow: 0px 1px 2px rgba(60, 64, 67, 0.3), 0px 1px 3px 1px rgba(60, 64, 67, 0.15);\n",
              "        fill: #174EA6;\n",
              "      }\n",
              "\n",
              "      [theme=dark] .colab-df-generate {\n",
              "        background-color: #3B4455;\n",
              "        fill: #D2E3FC;\n",
              "      }\n",
              "\n",
              "      [theme=dark] .colab-df-generate:hover {\n",
              "        background-color: #434B5C;\n",
              "        box-shadow: 0px 1px 3px 1px rgba(0, 0, 0, 0.15);\n",
              "        filter: drop-shadow(0px 1px 2px rgba(0, 0, 0, 0.3));\n",
              "        fill: #FFFFFF;\n",
              "      }\n",
              "    </style>\n",
              "    <button class=\"colab-df-generate\" onclick=\"generateWithVariable('series')\"\n",
              "            title=\"Generate code using this dataframe.\"\n",
              "            style=\"display:none;\">\n",
              "\n",
              "  <svg xmlns=\"http://www.w3.org/2000/svg\" height=\"24px\"viewBox=\"0 0 24 24\"\n",
              "       width=\"24px\">\n",
              "    <path d=\"M7,19H8.4L18.45,9,17,7.55,7,17.6ZM5,21V16.75L18.45,3.32a2,2,0,0,1,2.83,0l1.4,1.43a1.91,1.91,0,0,1,.58,1.4,1.91,1.91,0,0,1-.58,1.4L9.25,21ZM18.45,9,17,7.55Zm-12,3A5.31,5.31,0,0,0,4.9,8.1,5.31,5.31,0,0,0,1,6.5,5.31,5.31,0,0,0,4.9,4.9,5.31,5.31,0,0,0,6.5,1,5.31,5.31,0,0,0,8.1,4.9,5.31,5.31,0,0,0,12,6.5,5.46,5.46,0,0,0,6.5,12Z\"/>\n",
              "  </svg>\n",
              "    </button>\n",
              "    <script>\n",
              "      (() => {\n",
              "      const buttonEl =\n",
              "        document.querySelector('#id_ad49a90c-c5a5-48ef-bd75-ee0fc23d7851 button.colab-df-generate');\n",
              "      buttonEl.style.display =\n",
              "        google.colab.kernel.accessAllowed ? 'block' : 'none';\n",
              "\n",
              "      buttonEl.onclick = () => {\n",
              "        google.colab.notebook.generateWithVariable('series');\n",
              "      }\n",
              "      })();\n",
              "    </script>\n",
              "  </div>\n",
              "\n",
              "    </div>\n",
              "  </div>\n"
            ],
            "application/vnd.google.colaboratory.intrinsic+json": {
              "type": "dataframe",
              "variable_name": "series",
              "summary": "{\n  \"name\": \"series\",\n  \"rows\": 79,\n  \"fields\": [\n    {\n      \"column\": \"Year\",\n      \"properties\": {\n        \"dtype\": \"date\",\n        \"min\": \"1885-01-01 00:00:00\",\n        \"max\": \"1963-01-01 00:00:00\",\n        \"num_unique_values\": 79,\n        \"samples\": [\n          \"1915-01-01 00:00:00\",\n          \"1885-01-01 00:00:00\",\n          \"1907-01-01 00:00:00\"\n        ],\n        \"semantic_type\": \"\",\n        \"description\": \"\"\n      }\n    },\n    {\n      \"column\": \"Water\",\n      \"properties\": {\n        \"dtype\": \"number\",\n        \"std\": 75,\n        \"min\": 344,\n        \"max\": 662,\n        \"num_unique_values\": 49,\n        \"samples\": [\n          462,\n          579,\n          594\n        ],\n        \"semantic_type\": \"\",\n        \"description\": \"\"\n      }\n    }\n  ]\n}"
            }
          },
          "metadata": {},
          "execution_count": 3
        }
      ],
      "source": [
        "series"
      ]
    },
    {
      "cell_type": "code",
      "execution_count": 4,
      "metadata": {
        "colab": {
          "base_uri": "https://localhost:8080/",
          "height": 449
        },
        "id": "R0R2YHT-fXzt",
        "outputId": "1e9da0ea-5bf6-418e-ee19-8b29bf5a5312"
      },
      "outputs": [
        {
          "output_type": "display_data",
          "data": {
            "text/plain": [
              "<Figure size 640x480 with 1 Axes>"
            ],
            "image/png": "[encoded data removed]"
          },
          "metadata": {}
        }
      ],
      "source": [
        "# line plot of time series\n",
        "from pandas import read_csv\n",
        "from matplotlib import pyplot\n",
        "series.plot()\n",
        "pyplot.show()"
      ]
    },
    {
      "cell_type": "code",
      "execution_count": 5,
      "metadata": {
        "colab": {
          "base_uri": "https://localhost:8080/",
          "height": 470
        },
        "id": "LPdCZBOsfXzu",
        "outputId": "0a8231f9-83b2-4a89-9b0c-d0f5ca4bc2f0"
      },
      "outputs": [
        {
          "output_type": "execute_result",
          "data": {
            "text/plain": [
              "array([[<Axes: title={'center': 'Water'}>]], dtype=object)"
            ]
          },
          "metadata": {},
          "execution_count": 5
        },
        {
          "output_type": "display_data",
          "data": {
            "text/plain": [
              "<Figure size 640x480 with 1 Axes>"
            ],
            "image/png": "[encoded data removed]"
          },
          "metadata": {}
        }
      ],
      "source": [
        "series.hist()"
      ]
    },
    {
      "cell_type": "code",
      "execution_count": 6,
      "metadata": {
        "colab": {
          "base_uri": "https://localhost:8080/",
          "height": 448
        },
        "id": "t2apHKUJfXzv",
        "outputId": "9bf4c27f-7339-4250-c0fc-b714b702ff1a"
      },
      "outputs": [
        {
          "output_type": "execute_result",
          "data": {
            "text/plain": [
              "<Axes: ylabel='Density'>"
            ]
          },
          "metadata": {},
          "execution_count": 6
        },
        {
          "output_type": "display_data",
          "data": {
            "text/plain": [
              "<Figure size 640x480 with 1 Axes>"
            ],
            "image/png": "[encoded data removed]"
          },
          "metadata": {}
        }
      ],
      "source": [
        "series.plot(kind='kde')"
      ]
    },
    {
      "cell_type": "code",
      "execution_count": 7,
      "metadata": {
        "colab": {
          "base_uri": "https://localhost:8080/"
        },
        "id": "CmI0MjGIfXzw",
        "outputId": "a9c133b5-0354-4246-d6ed-3a7bdb4ec0e0"
      },
      "outputs": [
        {
          "output_type": "stream",
          "name": "stdout",
          "text": [
            "Dataset 69, Validation 10\n"
          ]
        }
      ],
      "source": [
        "# separate out a validation dataset\n",
        "split_point = len(series) - 10\n",
        "dataset, validation = series[0:split_point], series[split_point:]\n",
        "print('Dataset %d, Validation %d' % (len(dataset), len(validation)))\n",
        "dataset.to_csv('dataset.csv', header=False)\n",
        "validation.to_csv('validation.csv', header=False)"
      ]
    },
    {
      "cell_type": "markdown",
      "metadata": {
        "id": "QCJTFMcTfXzx"
      },
      "source": [
        "#### Persistence/ Base model"
      ]
    },
    {
      "cell_type": "code",
      "execution_count": 11,
      "metadata": {
        "id": "XNEkFETxfXz0"
      },
      "outputs": [],
      "source": [
        "# evaluate a persistence model\n",
        "from pandas import read_csv\n",
        "from sklearn.metrics import mean_squared_error\n",
        "from math import sqrt\n",
        "# load data\n",
        "train = read_csv('dataset.csv', header=None, index_col=0, parse_dates=True)\n",
        "# prepare data\n",
        "X = train.values\n",
        "X = X.astype('float32')\n",
        "train_size = int(len(X) * 0.50)\n",
        "train, test = X[0:train_size], X[train_size:]\n"
      ]
    },
    {
      "cell_type": "code",
      "execution_count": 12,
      "metadata": {
        "colab": {
          "base_uri": "https://localhost:8080/"
        },
        "id": "MFN_XozSfXz1",
        "outputId": "4f3e09d0-b841-4759-ce55-a19b29dbf554"
      },
      "outputs": [
        {
          "output_type": "stream",
          "name": "stdout",
          "text": [
            ">Predicted=503.000, Expected=503.000\n",
            ">Predicted=503.000, Expected=503.000\n",
            ">Predicted=503.000, Expected=515.000\n",
            ">Predicted=515.000, Expected=522.000\n",
            ">Predicted=522.000, Expected=492.000\n",
            ">Predicted=492.000, Expected=503.000\n",
            ">Predicted=503.000, Expected=503.000\n",
            ">Predicted=503.000, Expected=450.000\n",
            ">Predicted=450.000, Expected=432.000\n",
            ">Predicted=432.000, Expected=432.000\n",
            ">Predicted=432.000, Expected=458.000\n",
            ">Predicted=458.000, Expected=462.000\n",
            ">Predicted=462.000, Expected=503.000\n",
            ">Predicted=503.000, Expected=488.000\n",
            ">Predicted=488.000, Expected=466.000\n",
            ">Predicted=466.000, Expected=492.000\n",
            ">Predicted=492.000, Expected=503.000\n",
            ">Predicted=503.000, Expected=515.000\n",
            ">Predicted=515.000, Expected=500.000\n",
            ">Predicted=500.000, Expected=522.000\n",
            ">Predicted=522.000, Expected=575.000\n",
            ">Predicted=575.000, Expected=583.000\n",
            ">Predicted=583.000, Expected=587.000\n",
            ">Predicted=587.000, Expected=628.000\n",
            ">Predicted=628.000, Expected=640.000\n",
            ">Predicted=640.000, Expected=609.000\n",
            ">Predicted=609.000, Expected=606.000\n",
            ">Predicted=606.000, Expected=632.000\n",
            ">Predicted=632.000, Expected=617.000\n",
            ">Predicted=617.000, Expected=613.000\n",
            ">Predicted=613.000, Expected=598.000\n",
            ">Predicted=598.000, Expected=575.000\n",
            ">Predicted=575.000, Expected=564.000\n",
            ">Predicted=564.000, Expected=549.000\n",
            ">Predicted=549.000, Expected=538.000\n",
            "RMSE: 21.975\n"
          ]
        },
        {
          "output_type": "stream",
          "name": "stderr",
          "text": [
            "<ipython-input-12-17184d4719f7>:10: DeprecationWarning: Conversion of an array with ndim > 0 to a scalar is deprecated, and will error in future. Ensure you extract a single element from your array before performing this operation. (Deprecated NumPy 1.25.)\n",
            "  print('>Predicted=%.3f, Expected=%.3f' % (yhat, obs))\n"
          ]
        }
      ],
      "source": [
        "# walk-forward validation\n",
        "history = [x for x in train]\n",
        "predictions = list()\n",
        "for i in range(len(test)):\n",
        "    yhat = history[-1]\n",
        "    predictions.append(yhat)\n",
        "# observation\n",
        "    obs = test[i]\n",
        "    history.append(obs)\n",
        "    print('>Predicted=%.3f, Expected=%.3f' % (yhat, obs))\n",
        "# report performance\n",
        "rmse = sqrt(mean_squared_error(test, predictions))\n",
        "print('RMSE: %.3f' % rmse)"
      ]
    },
    {
      "cell_type": "markdown",
      "metadata": {
        "id": "FPESk-p1fXz1"
      },
      "source": [
        "#### ARIMA Hyperparameters"
      ]
    },
    {
      "cell_type": "code",
      "source": [
        "from statsmodels.graphics.tsaplots import plot_acf, plot_pacf\n",
        "plot_acf(series)\n",
        "plot_pacf(series)"
      ],
      "metadata": {
        "colab": {
          "base_uri": "https://localhost:8080/",
          "height": 1000
        },
        "id": "Z3UAgGhHhnc-",
        "outputId": "a4492f23-8702-4f14-a236-c6bf4eb7fe62"
      },
      "execution_count": 23,
      "outputs": [
        {
          "output_type": "execute_result",
          "data": {
            "text/plain": [
              "<Figure size 640x480 with 1 Axes>"
            ],
            "image/png": "[encoded data removed]"
          },
          "metadata": {},
          "execution_count": 23
        },
        {
          "output_type": "display_data",
          "data": {
            "text/plain": [
              "<Figure size 640x480 with 1 Axes>"
            ],
            "image/png": "[encoded data removed]"
          },
          "metadata": {}
        },
        {
          "output_type": "display_data",
          "data": {
            "text/plain": [
              "<Figure size 640x480 with 1 Axes>"
            ],
            "image/png": "[encoded data removed]"
          },
          "metadata": {}
        }
      ]
    },
    {
      "cell_type": "markdown",
      "metadata": {
        "id": "b53OSO87fXz2"
      },
      "source": [
        "#### Grid search for p,d,q values"
      ]
    },
    {
      "cell_type": "code",
      "source": [
        "!pip install statsmodels --upgrade"
      ],
      "metadata": {
        "colab": {
          "base_uri": "https://localhost:8080/"
        },
        "id": "47dRTRLVh90l",
        "outputId": "5a6a4b44-e38a-4593-903f-a16921ff4d3e"
      },
      "execution_count": 44,
      "outputs": [
        {
          "output_type": "stream",
          "name": "stdout",
          "text": [
            "Requirement already satisfied: statsmodels in /usr/local/lib/python3.11/dist-packages (0.14.4)\n",
            "Requirement already satisfied: numpy<3,>=1.22.3 in /usr/local/lib/python3.11/dist-packages (from statsmodels) (2.0.2)\n",
            "Requirement already satisfied: scipy!=1.9.2,>=1.8 in /usr/local/lib/python3.11/dist-packages (from statsmodels) (1.14.1)\n",
            "Requirement already satisfied: pandas!=2.1.0,>=1.4 in /usr/local/lib/python3.11/dist-packages (from statsmodels) (2.2.2)\n",
            "Requirement already satisfied: patsy>=0.5.6 in /usr/local/lib/python3.11/dist-packages (from statsmodels) (1.0.1)\n",
            "Requirement already satisfied: packaging>=21.3 in /usr/local/lib/python3.11/dist-packages (from statsmodels) (24.2)\n",
            "Requirement already satisfied: python-dateutil>=2.8.2 in /usr/local/lib/python3.11/dist-packages (from pandas!=2.1.0,>=1.4->statsmodels) (2.8.2)\n",
            "Requirement already satisfied: pytz>=2020.1 in /usr/local/lib/python3.11/dist-packages (from pandas!=2.1.0,>=1.4->statsmodels) (2025.2)\n",
            "Requirement already satisfied: tzdata>=2022.7 in /usr/local/lib/python3.11/dist-packages (from pandas!=2.1.0,>=1.4->statsmodels) (2025.2)\n",
            "Requirement already satisfied: six>=1.5 in /usr/local/lib/python3.11/dist-packages (from python-dateutil>=2.8.2->pandas!=2.1.0,>=1.4->statsmodels) (1.17.0)\n"
          ]
        }
      ]
    },
    {
      "cell_type": "code",
      "source": [
        "from pandas import read_csv\n",
        "from statsmodels.tsa.arima.model import ARIMA\n",
        "import numpy as np"
      ],
      "metadata": {
        "id": "yeb-DX9riK4v"
      },
      "execution_count": 51,
      "outputs": []
    },
    {
      "cell_type": "code",
      "source": [
        "# grid search ARIMA parameters for a time series\n",
        "\n",
        "import warnings\n",
        "from sklearn.metrics import mean_squared_error\n",
        "from math import sqrt\n",
        "\n",
        "\n",
        "# evaluate an ARIMA model for a given order (p,d,q) and return RMSE\n",
        "def evaluate_arima_model(X, arima_order):\n",
        "# prepare training dataset\n",
        "    X = X.astype('float32')\n",
        "    train_size = int(len(X) * 0.50)\n",
        "    train, test = X[0:train_size], X[train_size:]\n",
        "    history = [x for x in train]\n",
        "# make predictions\n",
        "    predictions = list()\n",
        "    for t in range(len(test)):\n",
        "        model = ARIMA(history, order=arima_order)\n",
        "# model_fit = model.fit\n",
        "        model_fit = model.fit()\n",
        "        yhat = model_fit.forecast()[0]\n",
        "        predictions.append(yhat)\n",
        "        history.append(test[t])\n",
        "# calculate out of sample error\n",
        "    rmse = sqrt(mean_squared_error(test, predictions))\n",
        "    return rmse"
      ],
      "metadata": {
        "id": "aEXAiI24k-xQ"
      },
      "execution_count": 52,
      "outputs": []
    },
    {
      "cell_type": "code",
      "execution_count": 53,
      "metadata": {
        "id": "cVSoQyNkfXz3"
      },
      "outputs": [],
      "source": [
        "# evaluate combinations of p, d and q values for an ARIMA model\n",
        "def evaluate_models(dataset, p_values, d_values, q_values):\n",
        "    dataset = dataset.astype('float32')\n",
        "    best_score, best_cfg = float('inf'), None\n",
        "    for p in p_values:\n",
        "        for d in d_values:\n",
        "            for q in q_values:\n",
        "                order = (p,d,q)\n",
        "                rmse = evaluate_arima_model(dataset, order)\n",
        "                if rmse < best_score:\n",
        "                    best_score, best_cfg = rmse, order\n",
        "                print('ARIMA%s RMSE=%.3f' % (order,rmse))\n",
        "\n",
        "    print('Best ARIMA%s RMSE=%.3f' % (best_cfg, best_score))"
      ]
    },
    {
      "cell_type": "code",
      "execution_count": 54,
      "metadata": {
        "colab": {
          "base_uri": "https://localhost:8080/"
        },
        "id": "XAnuNx3OfXz3",
        "outputId": "39e149a4-021a-4a5f-d36d-fd05ed352c39"
      },
      "outputs": [
        {
          "output_type": "stream",
          "name": "stdout",
          "text": [
            "ARIMA(0, 0, 0) RMSE=76.755\n",
            "ARIMA(0, 0, 1) RMSE=47.347\n",
            "ARIMA(0, 0, 2) RMSE=36.030\n",
            "ARIMA(0, 1, 0) RMSE=21.975\n",
            "ARIMA(0, 1, 1) RMSE=21.907\n",
            "ARIMA(0, 1, 2) RMSE=22.178\n",
            "ARIMA(0, 2, 0) RMSE=28.992\n",
            "ARIMA(0, 2, 1) RMSE=22.314\n",
            "ARIMA(0, 2, 2) RMSE=22.196\n",
            "ARIMA(1, 0, 0) RMSE=23.957\n",
            "ARIMA(1, 0, 1) RMSE=23.991\n",
            "ARIMA(1, 0, 2) RMSE=25.384\n",
            "ARIMA(1, 1, 0) RMSE=21.921\n",
            "ARIMA(1, 1, 1) RMSE=21.879\n",
            "ARIMA(1, 1, 2) RMSE=23.314\n",
            "ARIMA(1, 2, 0) RMSE=27.464\n",
            "ARIMA(1, 2, 1) RMSE=22.219\n",
            "ARIMA(1, 2, 2) RMSE=22.785\n",
            "ARIMA(2, 0, 0) RMSE=24.101\n",
            "ARIMA(2, 0, 1) RMSE=24.113\n",
            "ARIMA(2, 0, 2) RMSE=25.451\n",
            "ARIMA(2, 1, 0) RMSE=21.732\n",
            "ARIMA(2, 1, 1) RMSE=23.823\n",
            "ARIMA(2, 1, 2) RMSE=27.510\n",
            "ARIMA(2, 2, 0) RMSE=25.282\n",
            "ARIMA(2, 2, 1) RMSE=22.064\n",
            "ARIMA(2, 2, 2) RMSE=23.252\n",
            "Best ARIMA(2, 1, 0) RMSE=21.732\n"
          ]
        }
      ],
      "source": [
        "# load dataset\n",
        "train = read_csv('dataset.csv', header=None, index_col=0, parse_dates=True)\n",
        "# evaluate parameters\n",
        "p_values = range(0, 3)\n",
        "d_values = range(0, 3)\n",
        "q_values = range(0, 3)\n",
        "warnings.filterwarnings(\"ignore\")\n",
        "evaluate_models(train.values, p_values, d_values, q_values)"
      ]
    },
    {
      "cell_type": "markdown",
      "metadata": {
        "id": "0EBrF4rPfXz3"
      },
      "source": [
        "#### Build Model based on the optimized values"
      ]
    },
    {
      "cell_type": "code",
      "execution_count": 58,
      "metadata": {
        "id": "AqIrUj-lfXz3"
      },
      "outputs": [],
      "source": [
        "# save finalized model to file\n",
        "from pandas import read_csv\n",
        "from statsmodels.tsa.arima.model import ARIMA\n",
        "import numpy"
      ]
    },
    {
      "cell_type": "code",
      "execution_count": 69,
      "metadata": {
        "id": "lHqzwhm9fXz4"
      },
      "outputs": [],
      "source": [
        "# load data\n",
        "train = read_csv('dataset.csv', header=0, index_col=0, parse_dates=True)\n",
        "# prepare data\n",
        "X = train.values\n",
        "X = X.astype('float32')"
      ]
    },
    {
      "cell_type": "code",
      "execution_count": 70,
      "metadata": {
        "id": "1T7EP_DlfXz4"
      },
      "outputs": [],
      "source": [
        "# fit model\n",
        "model = ARIMA(X, order=(2,1,6))\n",
        "model_fit = model.fit()\n",
        "forecast=model_fit.forecast(steps=10)\n",
        "#model_fit.plot_predict(1, 79)"
      ]
    },
    {
      "cell_type": "code",
      "source": [
        "forecast"
      ],
      "metadata": {
        "colab": {
          "base_uri": "https://localhost:8080/"
        },
        "id": "-ud3mfRenSaG",
        "outputId": "4c17b76f-2b37-49ff-ce88-9c74405bb8e0"
      },
      "execution_count": 71,
      "outputs": [
        {
          "output_type": "execute_result",
          "data": {
            "text/plain": [
              "array([544.27125262, 536.70634865, 551.3583591 , 562.7264356 ,\n",
              "       554.35737268, 552.61694499, 560.77331785, 559.28173276,\n",
              "       552.52559857, 556.39152298])"
            ]
          },
          "metadata": {},
          "execution_count": 71
        }
      ]
    },
    {
      "cell_type": "code",
      "execution_count": 72,
      "metadata": {
        "colab": {
          "base_uri": "https://localhost:8080/"
        },
        "id": "3dTnH9edfXz5",
        "outputId": "79451183-43e5-4ebd-d6a3-0d5e73850b29"
      },
      "outputs": [
        {
          "output_type": "execute_result",
          "data": {
            "text/plain": [
              "41.56717495204201"
            ]
          },
          "metadata": {},
          "execution_count": 72
        }
      ],
      "source": [
        "#Error on the test data\n",
        "val=pd.read_csv('validation.csv',header=None)\n",
        "rmse = sqrt(mean_squared_error(val[1], forecast))\n",
        "rmse"
      ]
    },
    {
      "cell_type": "markdown",
      "metadata": {
        "id": "cCh4wvC_fXz5"
      },
      "source": [
        "#### Combine train and test data and build final model"
      ]
    },
    {
      "cell_type": "code",
      "execution_count": 73,
      "metadata": {
        "id": "aQRD7VjlfXz5"
      },
      "outputs": [],
      "source": [
        "# fit model\n",
        "data = read_csv('water.csv', header=0, index_col=0, parse_dates=True)\n",
        "# prepare data\n",
        "X = train.values\n",
        "X = X.astype('float32')"
      ]
    },
    {
      "cell_type": "code",
      "execution_count": 74,
      "metadata": {
        "id": "DJ5waRPJfXz6"
      },
      "outputs": [],
      "source": [
        "model = ARIMA(X, order=(3,1,0))\n",
        "model_fit = model.fit()"
      ]
    },
    {
      "cell_type": "code",
      "execution_count": 76,
      "metadata": {
        "id": "iQCeN-GMfXz6"
      },
      "outputs": [],
      "source": [
        "forecast=model_fit.forecast(steps=10)\n",
        "#model_fit.plot_predict(1,80)"
      ]
    },
    {
      "cell_type": "code",
      "execution_count": 77,
      "metadata": {
        "colab": {
          "base_uri": "https://localhost:8080/"
        },
        "id": "7XNSQIOLfXz6",
        "outputId": "f5795a69-aba1-4dbf-f48f-24c66b86b26e"
      },
      "outputs": [
        {
          "output_type": "execute_result",
          "data": {
            "text/plain": [
              "array([541.43256046, 545.68775908, 547.82389905, 546.7613871 ,\n",
              "       545.63988693, 545.25364085, 545.57132054, 545.85201949,\n",
              "       545.91244057, 545.82107666])"
            ]
          },
          "metadata": {},
          "execution_count": 77
        }
      ],
      "source": [
        "forecast"
      ]
    }
  ],
  "metadata": {
    "kernelspec": {
      "display_name": "Python 3",
      "language": "python",
      "name": "python3"
    },
    "language_info": {
      "codemirror_mode": {
        "name": "ipython",
        "version": 3
      },
      "file_extension": ".py",
      "mimetype": "text/x-python",
      "name": "python",
      "nbconvert_exporter": "python",
      "pygments_lexer": "ipython3",
      "version": "3.7.4"
    },
    "colab": {
      "provenance": []
    }
  },
  "nbformat": 4,
  "nbformat_minor": 0
}